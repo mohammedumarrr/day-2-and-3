{
 "cells": [
  {
   "cell_type": "code",
   "execution_count": 3,
   "id": "d6922647",
   "metadata": {},
   "outputs": [],
   "source": [
    "students = ['pablo','rafeal','miguel','romeo','chapo','jeff','jose']"
   ]
  },
  {
   "cell_type": "code",
   "execution_count": 4,
   "id": "803946a8",
   "metadata": {},
   "outputs": [
    {
     "name": "stdout",
     "output_type": "stream",
     "text": [
      "['pablo', 'rafeal', 'miguel', 'romeo', 'chapo', 'jeff', 'jose']\n"
     ]
    }
   ],
   "source": [
    "print(students)"
   ]
  },
  {
   "cell_type": "code",
   "execution_count": 5,
   "id": "0b20e049",
   "metadata": {},
   "outputs": [
    {
     "data": {
      "text/plain": [
       "list"
      ]
     },
     "execution_count": 5,
     "metadata": {},
     "output_type": "execute_result"
    }
   ],
   "source": [
    "type(students)"
   ]
  },
  {
   "cell_type": "code",
   "execution_count": 6,
   "id": "e9ec7b4b",
   "metadata": {},
   "outputs": [
    {
     "name": "stdout",
     "output_type": "stream",
     "text": [
      "rafeal\n"
     ]
    }
   ],
   "source": [
    "print(students[1])"
   ]
  },
  {
   "cell_type": "code",
   "execution_count": 9,
   "id": "55064a01",
   "metadata": {},
   "outputs": [
    {
     "name": "stdout",
     "output_type": "stream",
     "text": [
      "Rafeal\n"
     ]
    }
   ],
   "source": [
    "print(students[1].title())"
   ]
  },
  {
   "cell_type": "code",
   "execution_count": 10,
   "id": "79ce9c11",
   "metadata": {},
   "outputs": [
    {
     "name": "stdout",
     "output_type": "stream",
     "text": [
      "Chapo\n"
     ]
    }
   ],
   "source": [
    "print(students[4].title())"
   ]
  },
  {
   "cell_type": "code",
   "execution_count": 11,
   "id": "d6c2a1e3",
   "metadata": {},
   "outputs": [
    {
     "name": "stdout",
     "output_type": "stream",
     "text": [
      "['pablo', 'rafeal', 'miguel', 'romeo', 'chapo', 'jeff', 'jose']\n"
     ]
    }
   ],
   "source": [
    "print(students)"
   ]
  },
  {
   "cell_type": "code",
   "execution_count": 14,
   "id": "a41af507",
   "metadata": {},
   "outputs": [],
   "source": [
    "students.append('adil')"
   ]
  },
  {
   "cell_type": "code",
   "execution_count": 15,
   "id": "f6fce9fd",
   "metadata": {},
   "outputs": [
    {
     "name": "stdout",
     "output_type": "stream",
     "text": [
      "['pablo', 'rafeal', 'miguel', 'romeo', 'chapo', 'jeff', 'jose', 'adil']\n"
     ]
    }
   ],
   "source": [
    "print(students)"
   ]
  },
  {
   "cell_type": "code",
   "execution_count": 19,
   "id": "035fc30f",
   "metadata": {},
   "outputs": [],
   "source": [
    "students.insert(2,'arshad')"
   ]
  },
  {
   "cell_type": "code",
   "execution_count": 18,
   "id": "d4932d5f",
   "metadata": {},
   "outputs": [
    {
     "name": "stdout",
     "output_type": "stream",
     "text": [
      "['pablo', 'rafeal', 'arshad', 'miguel', 'romeo', 'chapo', 'jeff', 'jose', 'adil']\n"
     ]
    }
   ],
   "source": [
    "print(students)"
   ]
  },
  {
   "cell_type": "code",
   "execution_count": 21,
   "id": "d00a51e9",
   "metadata": {},
   "outputs": [
    {
     "name": "stdout",
     "output_type": "stream",
     "text": [
      "arshad\n"
     ]
    }
   ],
   "source": [
    "print(students[2])"
   ]
  },
  {
   "cell_type": "code",
   "execution_count": 22,
   "id": "f8b463fe",
   "metadata": {},
   "outputs": [
    {
     "name": "stdout",
     "output_type": "stream",
     "text": [
      "Arshad\n"
     ]
    }
   ],
   "source": [
    "print(students[2].title())"
   ]
  },
  {
   "cell_type": "code",
   "execution_count": null,
   "id": "005c6c2f",
   "metadata": {},
   "outputs": [],
   "source": []
  }
 ],
 "metadata": {
  "kernelspec": {
   "display_name": "Python 3 (ipykernel)",
   "language": "python",
   "name": "python3"
  },
  "language_info": {
   "codemirror_mode": {
    "name": "ipython",
    "version": 3
   },
   "file_extension": ".py",
   "mimetype": "text/x-python",
   "name": "python",
   "nbconvert_exporter": "python",
   "pygments_lexer": "ipython3",
   "version": "3.9.12"
  }
 },
 "nbformat": 4,
 "nbformat_minor": 5
}
